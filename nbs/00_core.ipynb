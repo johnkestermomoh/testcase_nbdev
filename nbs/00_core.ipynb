{
 "cells": [
  {
   "cell_type": "markdown",
   "metadata": {},
   "source": [
    "# testcase\n",
    "\n",
    "> Fill in a module description here"
   ]
  },
  {
   "cell_type": "code",
   "execution_count": null,
   "metadata": {},
   "outputs": [],
   "source": [
    "%load_ext autoreload\n",
    "%autoreload 2"
   ]
  },
  {
   "cell_type": "code",
   "execution_count": null,
   "metadata": {},
   "outputs": [],
   "source": [
    "#| default_exp testcase"
   ]
  },
  {
   "cell_type": "code",
   "execution_count": null,
   "metadata": {},
   "outputs": [],
   "source": [
    "#| hide\n",
    "from nbdev.showdoc import *\n",
    "from fastcore.test import *\n",
    "from fastcore import docments\n",
    "from fastcore.meta import delegates\n",
    "from IPython.display import display,SVG\n",
    "from typing import List, Union, Tuple\n",
    "import matplotlib.pyplot as plt\n",
    "import numpy as np\n",
    "import pandas as pd\n",
    "import numpy as np"
   ]
  },
  {
   "cell_type": "code",
   "execution_count": null,
   "metadata": {},
   "outputs": [],
   "source": [
    "#| export\n",
    "def all(a, # Input array or object that can be converted to an array.\n",
    "        axis:int|tuple|None=None, # Axis or axes along which a logical AND reduction is performed (default: all).\n",
    "        out:np.ndarray|None=None, # Alternate output array in which to place the result.\n",
    "        keepdims:bool=np._NoValue, # Leave reduced one-dimensional axes in the result?\n",
    "        where=np._NoValue, # Elements to include in reduction. See `numpy.ufunc.reduce` for details. New in version 1.20.0.\n",
    "        ) -> np.ndarray|bool: # A new boolean or array, or a reference to `out` if its specified.\n",
    "    \"Test whether all array elements along a given axis evaluate to `True`.\"\n",
    "    "
   ]
  },
  {
   "cell_type": "code",
   "execution_count": null,
   "metadata": {},
   "outputs": [],
   "source": [
    "#| export\n",
    "def load_data(\n",
    "    data: str=None,   # data loaded and needed\n",
    "    ):\n",
    "    try:\n",
    "        if os.path.isfile(data):\n",
    "            df = pd.read_csv(data, engine='python')\n",
    "            return df\n",
    "    except Exception as e:\n",
    "        logger.info(f'check that {data} exist in environment.yaml file {e}')     "
   ]
  },
  {
   "cell_type": "code",
   "execution_count": null,
   "metadata": {},
   "outputs": [
    {
     "data": {
      "text/markdown": [
       "---\n",
       "\n",
       "[source](https://github.com/johnkestermomoh/testcase_nbdev/blob/main/testcase_nbdev/testcase.py#L17){target=\"_blank\" style=\"float:right; font-size:smaller\"}\n",
       "\n",
       "### load_data\n",
       "\n",
       ">      load_data (data:str=None)\n",
       "\n",
       "|    | **Type** | **Default** | **Details** |\n",
       "| -- | -------- | ----------- | ----------- |\n",
       "| data | str | None | data loaded and needed |"
      ],
      "text/plain": [
       "---\n",
       "\n",
       "[source](https://github.com/johnkestermomoh/testcase_nbdev/blob/main/testcase_nbdev/testcase.py#L17){target=\"_blank\" style=\"float:right; font-size:smaller\"}\n",
       "\n",
       "### load_data\n",
       "\n",
       ">      load_data (data:str=None)\n",
       "\n",
       "|    | **Type** | **Default** | **Details** |\n",
       "| -- | -------- | ----------- | ----------- |\n",
       "| data | str | None | data loaded and needed |"
      ]
     },
     "execution_count": null,
     "metadata": {},
     "output_type": "execute_result"
    }
   ],
   "source": [
    "show_doc(load_data)"
   ]
  },
  {
   "cell_type": "code",
   "execution_count": null,
   "metadata": {},
   "outputs": [
    {
     "data": {
      "image/svg+xml": [
       "<svg xmlns=\"http://www.w3.org/2000/svg\" height=\"100\"><circle cx=\"50\" cy=\"50\" r=\"40\"/></svg>"
      ],
      "text/plain": [
       "<IPython.core.display.SVG object>"
      ]
     },
     "metadata": {},
     "output_type": "display_data"
    }
   ],
   "source": [
    "display(SVG('<svg height=\"100\" xmlns=\"http://www.w3.org/2000/svg\"><circle cx=\"50\" cy=\"50\" r=\"40\"/></svg>'))"
   ]
  },
  {
   "cell_type": "code",
   "execution_count": null,
   "metadata": {},
   "outputs": [],
   "source": [
    "#| export\n",
    "def say_gday(\n",
    "    greeting:str=\"G'day\",  # Greeting to use\n",
    "    strine:bool=True,      # Use incomprehensible Aussie accent?\n",
    "    dropbears:bool=False): # Also warn about drop-bears?\n",
    "    \"Says g'day, the classic Aussie greeting\""
   ]
  },
  {
   "cell_type": "code",
   "execution_count": null,
   "metadata": {},
   "outputs": [],
   "source": [
    "#| export\n",
    "def add(\n",
    "    a:int, # the 1st number to add\n",
    "    b=0,   # the 2nd number to add\n",
    ")->int:    # the result of adding `a` to `b`\n",
    "    \"The sum of two numbers.\"\n",
    "    return a+b"
   ]
  },
  {
   "cell_type": "code",
   "execution_count": null,
   "metadata": {},
   "outputs": [],
   "source": [
    "#| export\n",
    "def draw_n(n:int, # Number of cards to draw\n",
    "           replace:bool=True # Draw with replacement?\n",
    "          )->list: # List of cards\n",
    "    \"Draw `n` cards.\""
   ]
  },
  {
   "cell_type": "markdown",
   "metadata": {},
   "source": [
    "### Advanced add class"
   ]
  },
  {
   "cell_type": "code",
   "execution_count": null,
   "metadata": {},
   "outputs": [
    {
     "data": {
      "text/markdown": [
       "---\n",
       "\n",
       "### shopping.shops\n",
       "\n",
       ">      shopping.shops ()"
      ],
      "text/plain": [
       "---\n",
       "\n",
       "### shopping.shops\n",
       "\n",
       ">      shopping.shops ()"
      ]
     },
     "execution_count": null,
     "metadata": {},
     "output_type": "execute_result"
    }
   ],
   "source": [
    "#| export\n",
    "class shopping:\n",
    "    \"\"\"\n",
    "    class that prints what you have in the shopping basket\n",
    "    \"\"\"\n",
    "    def __init__(self, cart: List):\n",
    "        self.cart = cart\n",
    "        print(self.cart)\n",
    "    def shops(self):\n",
    "        print(self.cart[0])\n",
    "show_doc(shopping.shops)"
   ]
  },
  {
   "cell_type": "code",
   "execution_count": null,
   "metadata": {},
   "outputs": [
    {
     "name": "stderr",
     "output_type": "stream",
     "text": [
      "C:\\Users\\JohnMomoh\\anaconda3\\lib\\site-packages\\fastcore\\docscrape.py:225: UserWarning: Unknown section See Also\n",
      "  else: warn(msg)\n",
      "C:\\Users\\JohnMomoh\\anaconda3\\lib\\site-packages\\fastcore\\docscrape.py:225: UserWarning: Unknown section Notes\n",
      "  else: warn(msg)\n",
      "C:\\Users\\JohnMomoh\\anaconda3\\lib\\site-packages\\fastcore\\docscrape.py:225: UserWarning: Unknown section Examples\n",
      "  else: warn(msg)\n"
     ]
    },
    {
     "data": {
      "text/markdown": [
       "---\n",
       "\n",
       "### all\n",
       "\n",
       ">      all (a, axis=None, out=None, keepdims=<no value>, where=<no value>)\n",
       "\n",
       "Test whether all array elements along a given axis evaluate to True.\n",
       "\n",
       "|    | **Type** | **Default** | **Details** |\n",
       "| -- | -------- | ----------- | ----------- |\n",
       "| a | array_like |  | Input array or object that can be converted to an array. |\n",
       "| axis | NoneType | None | Axis or axes along which a logical AND reduction is performed.<br>The default (``axis=None``) is to perform a logical AND over all<br>the dimensions of the input array. `axis` may be negative, in<br>which case it counts from the last to the first axis.<br><br>.. versionadded:: 1.7.0<br><br>If this is a tuple of ints, a reduction is performed on multiple<br>axes, instead of a single axis or all the axes as before. |\n",
       "| out | NoneType | None | Alternate output array in which to place the result.<br>It must have the same shape as the expected output and its<br>type is preserved (e.g., if ``dtype(out)`` is float, the result<br>will consist of 0.0's and 1.0's). See :ref:`ufuncs-output-type` for more<br>details. |\n",
       "| keepdims | _NoValueType | <no value> | If this is set to True, the axes which are reduced are left<br>in the result as dimensions with size one. With this option,<br>the result will broadcast correctly against the input array.<br><br>If the default value is passed, then `keepdims` will not be<br>passed through to the `all` method of sub-classes of<br>`ndarray`, however any non-default value will be.  If the<br>sub-class' method does not implement `keepdims` any<br>exceptions will be raised. |\n",
       "| where | _NoValueType | <no value> | Elements to include in checking for all `True` values.<br>See `~numpy.ufunc.reduce` for details.<br><br>.. versionadded:: 1.20.0 |\n",
       "| **Returns** | **ndarray, bool** |  | **A new boolean or array is returned unless `out` is specified,<br>in which case a reference to `out` is returned.** |"
      ],
      "text/plain": [
       "---\n",
       "\n",
       "### all\n",
       "\n",
       ">      all (a, axis=None, out=None, keepdims=<no value>, where=<no value>)\n",
       "\n",
       "Test whether all array elements along a given axis evaluate to True.\n",
       "\n",
       "|    | **Type** | **Default** | **Details** |\n",
       "| -- | -------- | ----------- | ----------- |\n",
       "| a | array_like |  | Input array or object that can be converted to an array. |\n",
       "| axis | NoneType | None | Axis or axes along which a logical AND reduction is performed.<br>The default (``axis=None``) is to perform a logical AND over all<br>the dimensions of the input array. `axis` may be negative, in<br>which case it counts from the last to the first axis.<br><br>.. versionadded:: 1.7.0<br><br>If this is a tuple of ints, a reduction is performed on multiple<br>axes, instead of a single axis or all the axes as before. |\n",
       "| out | NoneType | None | Alternate output array in which to place the result.<br>It must have the same shape as the expected output and its<br>type is preserved (e.g., if ``dtype(out)`` is float, the result<br>will consist of 0.0's and 1.0's). See :ref:`ufuncs-output-type` for more<br>details. |\n",
       "| keepdims | _NoValueType | <no value> | If this is set to True, the axes which are reduced are left<br>in the result as dimensions with size one. With this option,<br>the result will broadcast correctly against the input array.<br><br>If the default value is passed, then `keepdims` will not be<br>passed through to the `all` method of sub-classes of<br>`ndarray`, however any non-default value will be.  If the<br>sub-class' method does not implement `keepdims` any<br>exceptions will be raised. |\n",
       "| where | _NoValueType | <no value> | Elements to include in checking for all `True` values.<br>See `~numpy.ufunc.reduce` for details.<br><br>.. versionadded:: 1.20.0 |\n",
       "| **Returns** | **ndarray, bool** |  | **A new boolean or array is returned unless `out` is specified,<br>in which case a reference to `out` is returned.** |"
      ]
     },
     "execution_count": null,
     "metadata": {},
     "output_type": "execute_result"
    }
   ],
   "source": [
    "from numpy import all\n",
    "\n",
    "show_doc(all)"
   ]
  },
  {
   "cell_type": "code",
   "execution_count": null,
   "metadata": {},
   "outputs": [
    {
     "data": {
      "text/markdown": [
       "---\n",
       "\n",
       "[source](https://github.com/fastai/nbdev/blob/master/nbdev/release.py#LNone){target=\"_blank\" style=\"float:right; font-size:smaller\"}\n",
       "\n",
       "### release_conda\n",
       "\n",
       ">      release_conda (path:str='conda', do_build:<function bool_arg>=True,\n",
       ">                     build_args:str='', skip_upload:<function\n",
       ">                     store_true>=False, mambabuild:<function store_true>=False,\n",
       ">                     upload_user:str=None)\n",
       "\n",
       "Create a `meta.yaml` file ready to be built into a package, and optionally build and upload it\n",
       "\n",
       "|    | **Type** | **Default** | **Details** |\n",
       "| -- | -------- | ----------- | ----------- |\n",
       "| path | str | conda | Path where package will be created |\n",
       "| do_build | bool_arg | True | Run `conda build` step |\n",
       "| build_args | str |  | Additional args (as str) to send to `conda build` |\n",
       "| skip_upload | store_true | False | Skip `anaconda upload` step |\n",
       "| mambabuild | store_true | False | Use `mambabuild` (requires `boa`) |\n",
       "| upload_user | str | None | Optional user to upload package to |"
      ],
      "text/plain": [
       "---\n",
       "\n",
       "[source](https://github.com/fastai/nbdev/blob/master/nbdev/release.py#LNone){target=\"_blank\" style=\"float:right; font-size:smaller\"}\n",
       "\n",
       "### release_conda\n",
       "\n",
       ">      release_conda (path:str='conda', do_build:<function bool_arg>=True,\n",
       ">                     build_args:str='', skip_upload:<function\n",
       ">                     store_true>=False, mambabuild:<function store_true>=False,\n",
       ">                     upload_user:str=None)\n",
       "\n",
       "Create a `meta.yaml` file ready to be built into a package, and optionally build and upload it\n",
       "\n",
       "|    | **Type** | **Default** | **Details** |\n",
       "| -- | -------- | ----------- | ----------- |\n",
       "| path | str | conda | Path where package will be created |\n",
       "| do_build | bool_arg | True | Run `conda build` step |\n",
       "| build_args | str |  | Additional args (as str) to send to `conda build` |\n",
       "| skip_upload | store_true | False | Skip `anaconda upload` step |\n",
       "| mambabuild | store_true | False | Use `mambabuild` (requires `boa`) |\n",
       "| upload_user | str | None | Optional user to upload package to |"
      ]
     },
     "execution_count": null,
     "metadata": {},
     "output_type": "execute_result"
    }
   ],
   "source": [
    "from nbdev.release import release_conda\n",
    "show_doc(release_conda)"
   ]
  },
  {
   "cell_type": "markdown",
   "metadata": {},
   "source": [
    "\"Say hello to `shops` using `shopping`\""
   ]
  },
  {
   "cell_type": "markdown",
   "metadata": {},
   "source": [
    "### Example of using the shopping python class "
   ]
  },
  {
   "cell_type": "code",
   "execution_count": null,
   "metadata": {},
   "outputs": [
    {
     "name": "stdout",
     "output_type": "stream",
     "text": [
      "['bags', 'shoes']\n"
     ]
    }
   ],
   "source": [
    "shopping(cart=['bags', 'shoes']);"
   ]
  },
  {
   "cell_type": "markdown",
   "metadata": {},
   "source": [
    "## Equations"
   ]
  },
  {
   "cell_type": "markdown",
   "metadata": {},
   "source": [
    "$$\\sum_{i=1}^{k+1}i$$"
   ]
  },
  {
   "cell_type": "markdown",
   "metadata": {},
   "source": [
    "This version is displayed inline: $\\sum_{i=1}^{k+1}i$ . You can include text before and after."
   ]
  },
  {
   "cell_type": "code",
   "execution_count": null,
   "metadata": {},
   "outputs": [],
   "source": [
    "#| hide\n",
    "import nbdev; nbdev.nbdev_export()"
   ]
  },
  {
   "cell_type": "code",
   "execution_count": null,
   "metadata": {},
   "outputs": [],
   "source": []
  }
 ],
 "metadata": {
  "kernelspec": {
   "display_name": "python3",
   "language": "python",
   "name": "python3"
  }
 },
 "nbformat": 4,
 "nbformat_minor": 4
}
